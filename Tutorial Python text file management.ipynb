{
 "cells": [
  {
   "cell_type": "markdown",
   "metadata": {},
   "source": [
    "# File editing tutorial\n",
    "(Based on tutorial found in :\n",
    "http://www.guru99.com/reading-and-writing-files-in-python.html)\n",
    "## Create a File"
   ]
  },
  {
   "cell_type": "markdown",
   "metadata": {},
   "source": [
    "In this section is explained how to create a new file with the function open which uses two arguments: *file_name, permission*, in this case we use EM_test.txt as the filename and \"w\" that indicates write the \"+\" sign means it will create the file if it doesn't exists. The argument options are:\n",
    "* w : write\n",
    "+ r : read\n",
    "+ a : append\n",
    "+ \\+ : create if not exists \n",
    "\n",
    "The new file is assigned to the object named f"
   ]
  },
  {
   "cell_type": "code",
   "execution_count": 88,
   "metadata": {
    "collapsed": true
   },
   "outputs": [],
   "source": [
    "f= open(\"EM_test.txt\",\"w+\")"
   ]
  },
  {
   "cell_type": "markdown",
   "metadata": {},
   "source": [
    "## Write text on file"
   ]
  },
  {
   "cell_type": "markdown",
   "metadata": {},
   "source": [
    "Now we are going to write some data using the method write of the object f. "
   ]
  },
  {
   "cell_type": "code",
   "execution_count": 89,
   "metadata": {},
   "outputs": [],
   "source": [
    "for i in range(10):\n",
    "    f.write(\"This is line %d\\r\\n\" % (i+1))"
   ]
  },
  {
   "cell_type": "markdown",
   "metadata": {},
   "source": [
    "* We use a for-loop that runs over a range of 10 numbers assigned to the variable i.\n",
    "+ The function range() creates a vector that runs from 0 to 9 with unit increases.\n",
    "+ The write function enters the text data into the file.\n",
    "+ The percentage inside the write functions is used to display an integer (d), \\r is the carriage return and \\n is new line character.\n",
    "+ Since the variable i starts at 0 and ends at 9 we need to increase the value by 1 unit."
   ]
  },
  {
   "cell_type": "markdown",
   "metadata": {},
   "source": [
    "## Close file"
   ]
  },
  {
   "cell_type": "code",
   "execution_count": 90,
   "metadata": {
    "collapsed": true
   },
   "outputs": [],
   "source": [
    "f.close()"
   ]
  },
  {
   "cell_type": "markdown",
   "metadata": {},
   "source": [
    "## Read file"
   ]
  },
  {
   "cell_type": "markdown",
   "metadata": {},
   "source": [
    "We first open the file in read mode with the argument 'r' since we close the file in the last instruction"
   ]
  },
  {
   "cell_type": "code",
   "execution_count": 91,
   "metadata": {},
   "outputs": [],
   "source": [
    "f=open(\"EM_test.txt\",'r')"
   ]
  },
  {
   "cell_type": "markdown",
   "metadata": {},
   "source": [
    "Before read the content of the file we test that the file is in read mode using an if statement. When true we use the method read() to extract the content of the file and assign it to the variable \"contents\""
   ]
  },
  {
   "cell_type": "code",
   "execution_count": 92,
   "metadata": {},
   "outputs": [],
   "source": [
    "if f.mode =='r':\n",
    "    contents = f.read()"
   ]
  },
  {
   "cell_type": "markdown",
   "metadata": {},
   "source": [
    "We print the result using the function print()"
   ]
  },
  {
   "cell_type": "code",
   "execution_count": 93,
   "metadata": {},
   "outputs": [
    {
     "name": "stdout",
     "output_type": "stream",
     "text": [
      "This is line 1\r\n",
      "This is line 2\r\n",
      "This is line 3\r\n",
      "This is line 4\r\n",
      "This is line 5\r\n",
      "This is line 6\r\n",
      "This is line 7\r\n",
      "This is line 8\r\n",
      "This is line 9\r\n",
      "This is line 10\r\n",
      "\n"
     ]
    }
   ],
   "source": [
    "print(contents)"
   ]
  },
  {
   "cell_type": "code",
   "execution_count": 94,
   "metadata": {
    "collapsed": true
   },
   "outputs": [],
   "source": [
    "f.close()"
   ]
  },
  {
   "cell_type": "markdown",
   "metadata": {},
   "source": [
    "## Append Data"
   ]
  },
  {
   "cell_type": "markdown",
   "metadata": {},
   "source": [
    "Now we are going to use the argument \"a\" to append some data to the end of the file. "
   ]
  },
  {
   "cell_type": "code",
   "execution_count": 95,
   "metadata": {
    "collapsed": true
   },
   "outputs": [],
   "source": [
    "f=open(\"EM_test.txt\",\"a+\")\n",
    "f.write(\"Last Line of File\")\n",
    "f.close()"
   ]
  },
  {
   "cell_type": "markdown",
   "metadata": {},
   "source": [
    "Is important to close the file at the end of each operation to avoid any problem with other applications trying to access the same file. \n",
    "Now lets check that the line was appended to the file"
   ]
  },
  {
   "cell_type": "code",
   "execution_count": 96,
   "metadata": {},
   "outputs": [
    {
     "name": "stdout",
     "output_type": "stream",
     "text": [
      "This is line 1\r\n",
      "This is line 2\r\n",
      "This is line 3\r\n",
      "This is line 4\r\n",
      "This is line 5\r\n",
      "This is line 6\r\n",
      "This is line 7\r\n",
      "This is line 8\r\n",
      "This is line 9\r\n",
      "This is line 10\r\n",
      "Last Line of File\n"
     ]
    }
   ],
   "source": [
    "f=open(\"EM_test.txt\",'r')\n",
    "if f.mode =='r':\n",
    "    contents = f.read()\n",
    "print(contents)\n",
    "f.close()"
   ]
  },
  {
   "cell_type": "markdown",
   "metadata": {},
   "source": [
    "## Read and Write option"
   ]
  },
  {
   "cell_type": "markdown",
   "metadata": {},
   "source": [
    "A common way to access file is using the argument \"r+\" that opens the file for both reading and writing but the difference with a+ is that it posistions the cursor at the begining of the file."
   ]
  },
  {
   "cell_type": "code",
   "execution_count": 103,
   "metadata": {},
   "outputs": [
    {
     "name": "stdout",
     "output_type": "stream",
     "text": [
      "Added line with r+ argument     \n",
      "This is line 3\r\n",
      "This is line 4\r\n",
      "This is line 5\r\n",
      "This is line 6\r\n",
      "This is line 7\r\n",
      "This is line 8\r\n",
      "This is line 9\r\n",
      "This is line 10\r\n",
      "Last Line of File\n"
     ]
    }
   ],
   "source": [
    "# Write on first line\n",
    "f=open(\"EM_test.txt\",'r+')\n",
    "f.write(\"Added line with r+ argument     \\n\")\n",
    "f.close()\n",
    "# Read new added line\n",
    "f=open(\"EM_test.txt\",'r+')\n",
    "# Read current text\n",
    "if f.mode =='r' or f.mode =='r+' :\n",
    "    contents = f.read()\n",
    "    print(contents)\n",
    "f.close()\n"
   ]
  },
  {
   "cell_type": "markdown",
   "metadata": {},
   "source": [
    "# Parser Tutorial\n",
    "(Based on tutorial found in https://docs.python.org/2/tutorial/inputoutput.html#methods-of-file-objects)\n",
    "\n",
    "## Read lines\n"
   ]
  },
  {
   "cell_type": "markdown",
   "metadata": {},
   "source": [
    "Now that we know how to read/write/append to a file lets use some parser to extract information from the file. \n",
    "One of the most useful methods of the file object is to read line by line. This is done with the method readline(). Each time readline() is used the cursor change position to the next line. "
   ]
  },
  {
   "cell_type": "code",
   "execution_count": 129,
   "metadata": {},
   "outputs": [
    {
     "name": "stdout",
     "output_type": "stream",
     "text": [
      "Added line with r+ argument     \n",
      "\n",
      "This is line 3\r\n",
      "\n"
     ]
    }
   ],
   "source": [
    "f=open(\"EM_test.txt\",'r')\n",
    "print(f.readline())\n",
    "print(f.readline())\n",
    "f.close()"
   ]
  },
  {
   "cell_type": "markdown",
   "metadata": {},
   "source": [
    "We could also use a for-loop to iterate over all lines of a file"
   ]
  },
  {
   "cell_type": "code",
   "execution_count": 131,
   "metadata": {},
   "outputs": [
    {
     "name": "stdout",
     "output_type": "stream",
     "text": [
      "Added line with r+ argument     \n",
      "\n",
      "This is line 3\r\n",
      "\n",
      "This is line 4\r\n",
      "\n",
      "This is line 5\r\n",
      "\n",
      "This is line 6\r\n",
      "\n",
      "This is line 7\r\n",
      "\n",
      "This is line 8\r\n",
      "\n",
      "This is line 9\r\n",
      "\n",
      "This is line 10\r\n",
      "\n",
      "Last Line of File\n"
     ]
    }
   ],
   "source": [
    "f=open(\"EM_test.txt\",'r')\n",
    "for line in f:\n",
    "    print(line)\n",
    "    \n",
    "f.close()"
   ]
  },
  {
   "cell_type": "markdown",
   "metadata": {},
   "source": [
    "If we want to read all lines of a file and store it in a list object we could use any of the two options shown on the next code:"
   ]
  },
  {
   "cell_type": "code",
   "execution_count": 141,
   "metadata": {},
   "outputs": [
    {
     "name": "stdout",
     "output_type": "stream",
     "text": [
      "This is line 5\r\n",
      "\n",
      "This is line 7\r\n",
      "\n"
     ]
    }
   ],
   "source": [
    "f=open(\"EM_test.txt\",'r')\n",
    "list1=list(f)\n",
    "print(list1[3])\n",
    "f.close()\n",
    "\n",
    "#I need to close and open again to position the cursor in the first row again\n",
    "f=open(\"EM_test.txt\",'r')\n",
    "list2=f.readlines()\n",
    "print(list2[5])\n",
    "f.close()\n"
   ]
  },
  {
   "cell_type": "markdown",
   "metadata": {},
   "source": [
    "## Move cursor"
   ]
  },
  {
   "cell_type": "markdown",
   "metadata": {},
   "source": [
    "f.tell() returns an integer giving the file object’s current position in the file, measured in bytes from the beginning of the file. To change the file object’s position, use f.seek(offset, from_what). The position is computed from adding offset to a reference point; the reference point is selected by the from_what argument. A from_what value of 0 measures from the beginning of the file, 1 uses the current file position, and 2 uses the end of the file as the reference point. from_what can be omitted and defaults to 0, using the beginning of the file as the reference point."
   ]
  },
  {
   "cell_type": "code",
   "execution_count": 146,
   "metadata": {},
   "outputs": [
    {
     "data": {
      "text/plain": [
       "'5'"
      ]
     },
     "execution_count": 146,
     "metadata": {},
     "output_type": "execute_result"
    }
   ],
   "source": [
    "f=open(\"Test_cursor.txt\",'r+')\n",
    "f.write(\"0123456789abcdef\")\n",
    "f.seek(5) # Go to the 6th byte in the file\n",
    "f.read(1)\n"
   ]
  },
  {
   "cell_type": "code",
   "execution_count": 147,
   "metadata": {},
   "outputs": [
    {
     "data": {
      "text/plain": [
       "'def'"
      ]
     },
     "execution_count": 147,
     "metadata": {},
     "output_type": "execute_result"
    }
   ],
   "source": [
    "f.seek(-3,2) # Go to the 3rd byte before the end\n",
    "f.read(3)\n"
   ]
  },
  {
   "cell_type": "code",
   "execution_count": 148,
   "metadata": {
    "collapsed": true
   },
   "outputs": [],
   "source": [
    "f.close()"
   ]
  },
  {
   "cell_type": "markdown",
   "metadata": {},
   "source": [
    "## Good practice "
   ]
  },
  {
   "cell_type": "markdown",
   "metadata": {},
   "source": [
    "Another option to open and close file objects, is to use the statement \"with  as\". This has the advantage that the file is properly closed after its suite finishes, even if an exception is raised on the way"
   ]
  },
  {
   "cell_type": "code",
   "execution_count": 156,
   "metadata": {},
   "outputs": [
    {
     "data": {
      "text/plain": [
       "<function close>"
      ]
     },
     "execution_count": 156,
     "metadata": {},
     "output_type": "execute_result"
    }
   ],
   "source": [
    "with open(\"Test_cursor.txt\", 'r') as f:\n",
    "...     read_data = f.read() #Use identation to write all file operations\n",
    "# Lets test if the file is already closed\n",
    "f.close"
   ]
  },
  {
   "cell_type": "markdown",
   "metadata": {},
   "source": [
    "## Example: Find word in file"
   ]
  },
  {
   "cell_type": "markdown",
   "metadata": {},
   "source": [
    "To find a word in a file we need to make use of the for-loop to read through the lines of code and test if the word is there. The method find will return the position of that word in the string (line)."
   ]
  },
  {
   "cell_type": "code",
   "execution_count": 159,
   "metadata": {},
   "outputs": [
    {
     "name": "stdout",
     "output_type": "stream",
     "text": [
      "-1\n",
      "-1\n",
      "-1\n",
      "-1\n",
      "-1\n",
      "-1\n",
      "-1\n",
      "-1\n",
      "13\n",
      "-1\n"
     ]
    }
   ],
   "source": [
    "with open(\"EM_test.txt\",'r') as f:\n",
    "    for line in f:\n",
    "        print line.find('10')"
   ]
  },
  {
   "cell_type": "markdown",
   "metadata": {},
   "source": [
    "Using this method we could also retrieve specific information from a text file"
   ]
  },
  {
   "cell_type": "code",
   "execution_count": 178,
   "metadata": {},
   "outputs": [
    {
     "name": "stdout",
     "output_type": "stream",
     "text": [
      "('ABS', '10')\n"
     ]
    }
   ],
   "source": [
    "with open(\"EM_Part1.txt\",'w+') as f:\n",
    "    f.write('density=10\\r\\n')\n",
    "    f.write('material=ABS\\r\\n')\n",
    "\n",
    "with open(\"EM_Part1.txt\",'r+') as f:\n",
    "    for line in f:\n",
    "        if line.find('material') != -1:\n",
    "            n=line.find('=')\n",
    "            material=line[n+1:-2]     #n+1 to skip the equal, :-2 to avoid \\r\\n\n",
    "        if line.find('density') != -1:\n",
    "            n=line.find('=')\n",
    "            density=line[n+1:-2]\n",
    "print(material,density)"
   ]
  }
 ],
 "metadata": {
  "kernelspec": {
   "display_name": "Python 2",
   "language": "python",
   "name": "python2"
  },
  "language_info": {
   "codemirror_mode": {
    "name": "ipython",
    "version": 2
   },
   "file_extension": ".py",
   "mimetype": "text/x-python",
   "name": "python",
   "nbconvert_exporter": "python",
   "pygments_lexer": "ipython2",
   "version": "2.7.13"
  }
 },
 "nbformat": 4,
 "nbformat_minor": 2
}
